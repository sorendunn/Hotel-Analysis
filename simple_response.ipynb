{
 "cells": [
  {
   "cell_type": "code",
   "execution_count": 2,
   "metadata": {},
   "outputs": [],
   "source": [
    "import json \n",
    "import pandas as pd\n",
    "import time\n",
    "import tiktoken\n",
    "import nltk\n",
    "from nltk.tokenize import sent_tokenize, word_tokenize\n",
    "from nltk.probability import FreqDist\n"
   ]
  },
  {
   "cell_type": "code",
   "execution_count": 3,
   "metadata": {},
   "outputs": [],
   "source": [
    "data = pd.read_json('restrauntData.json')\n",
    "\n",
    "def get_text(x):\n",
    "    review_list = []\n",
    "    for i in x:\n",
    "        review_list.append(i[\"text\"])\n",
    "    return review_list\n",
    "\n",
    "data[\"review_list\"] = data[\"reviews\"].apply(get_text)\n",
    "data[\"latitude\"] = data[\"location\"].apply(lambda x: x[\"lat\"])\n",
    "data[\"longitude\"] = data[\"location\"].apply(lambda x: x[\"lng\"])"
   ]
  },
  {
   "cell_type": "code",
   "execution_count": 4,
   "metadata": {},
   "outputs": [],
   "source": [
    "def join_text(dfx):\n",
    "    return_str = ''\n",
    "    return_str = return_str.join(filter(None,dfx))\n",
    "    return return_str\n",
    "\n",
    "string_reviews = pd.DataFrame()"
   ]
  },
  {
   "cell_type": "code",
   "execution_count": 5,
   "metadata": {},
   "outputs": [],
   "source": [
    "def summarize_reviews(rev_list):\n",
    "    # Combine all reviews into a single string\n",
    "    all_reviews = \"\".join(rev_list)\n",
    "\n",
    "    # Tokenize the string into sentences and words\n",
    "    sentences = sent_tokenize(all_reviews)\n",
    "    words = word_tokenize(all_reviews)\n",
    "\n",
    "    # Create a frequency distribution of words\n",
    "    freq_dist = FreqDist(words)\n",
    "\n",
    "    # Create a list of the most common words\n",
    "    common_words = [word for word, freq in freq_dist.most_common(100)]\n",
    "\n",
    "    # Create a summary by selecting the most relevant sentences\n",
    "    summary_sentences = []\n",
    "    for sentence in sentences:\n",
    "        sentence_words = word_tokenize(sentence)\n",
    "        relevance = sum(1 for word in sentence_words if word in common_words)\n",
    "        if relevance > 0:\n",
    "            summary_sentences.append((sentence, relevance))\n",
    "\n",
    "    # Sort the summary sentences by relevance\n",
    "    summary_sentences.sort(key=lambda x: x[1], reverse=True)\n",
    "\n",
    "    # Return the first n sentences as the summary\n",
    "    summary = [sentence for sentence, relevance in summary_sentences[:2]]\n",
    "    return \"\".join(summary)\n"
   ]
  },
  {
   "cell_type": "code",
   "execution_count": 6,
   "metadata": {},
   "outputs": [
    {
     "data": {
      "text/plain": [
       "0      Out of everything?  How...Rude employees, they...\n",
       "1      Not open during it's peak hours, doesn't follo...\n",
       "2      Very nice bloody Mary’s and good service from ...\n",
       "3      Very bland. Over cooked. High priced and NASTY...\n",
       "4      The staff, the ambience, the drinks, and the d...\n",
       "                             ...                        \n",
       "295    Just don't do it. There are plenty of restaura...\n",
       "296    Unbelievably delicious chicken!!! Very fair pr...\n",
       "297    Loved this spot ! Food was so fresh . Handmade...\n",
       "298    Kelly is fantastic.Gyro was good,a little.dry ...\n",
       "299    Amazing place to have african foods With an aw...\n",
       "Name: str_rev, Length: 300, dtype: object"
      ]
     },
     "execution_count": 6,
     "metadata": {},
     "output_type": "execute_result"
    }
   ],
   "source": [
    "string_reviews[\"str_rev\"] =  data[\"reviews\"].copy()\n",
    "string_reviews[\"str_rev\"] =  data[\"review_list\"].apply(join_text)\n",
    "string_reviews[\"str_rev\"] "
   ]
  },
  {
   "cell_type": "code",
   "execution_count": 7,
   "metadata": {},
   "outputs": [],
   "source": [
    "string_reviews['review_summaries'] = string_reviews['str_rev'].apply(summarize_reviews)"
   ]
  },
  {
   "cell_type": "code",
   "execution_count": 12,
   "metadata": {},
   "outputs": [],
   "source": [
    "data['review_summaries'] = string_reviews['review_summaries']"
   ]
  },
  {
   "cell_type": "code",
   "execution_count": 15,
   "metadata": {},
   "outputs": [],
   "source": [
    "string_reviews.to_csv(\"review_summaries.csv\")"
   ]
  },
  {
   "cell_type": "code",
   "execution_count": null,
   "metadata": {},
   "outputs": [],
   "source": []
  }
 ],
 "metadata": {
  "kernelspec": {
   "display_name": "myenv",
   "language": "python",
   "name": "python3"
  },
  "language_info": {
   "codemirror_mode": {
    "name": "ipython",
    "version": 3
   },
   "file_extension": ".py",
   "mimetype": "text/x-python",
   "name": "python",
   "nbconvert_exporter": "python",
   "pygments_lexer": "ipython3",
   "version": "3.10.9"
  },
  "orig_nbformat": 4
 },
 "nbformat": 4,
 "nbformat_minor": 2
}
