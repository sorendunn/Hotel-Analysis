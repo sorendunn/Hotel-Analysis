{
 "cells": [
  {
   "cell_type": "code",
   "execution_count": 1,
   "metadata": {},
   "outputs": [],
   "source": [
    "import requests"
   ]
  },
  {
   "cell_type": "code",
   "execution_count": null,
   "metadata": {},
   "outputs": [],
   "source": [
    "get description of room\n",
    "get description of people\n",
    "generate a poem based on hotel description\n",
    "futuristic version of hotel image"
   ]
  },
  {
   "cell_type": "code",
   "execution_count": null,
   "metadata": {},
   "outputs": [],
   "source": [
    "combined_df = read_csv(\"combined.csv\")"
   ]
  },
  {
   "cell_type": "code",
   "execution_count": 33,
   "metadata": {},
   "outputs": [],
   "source": [
    "url = \"https://stablediffusionapi.com/api/v3/text2img\"\n",
    "\n",
    "def ultra_real(room_description):\n",
    "    return(get_image_url(room_description,style=\"ultra realistic, 8K\"))\n",
    "    \n",
    "def painting(room_description):\n",
    "    return(get_image_url(room_description,style=\"painting\"))\n",
    "\n",
    "def get_image_url(room_description,style):\n",
    "    myobj = {\"key\": \"81QQQbIaTPJeKqYZOK3kmp2EbkrFrrsMRGNLPjG09A29KV3nhOqg1Y1haBJS\",\n",
    "        \"prompt\": room_description + \" \" + style,\n",
    "        \"negative_prompt\": \"((out of frame)), ((extra fingers)), mutated hands, ((poorly drawn hands)), ((poorly drawn face)), (((mutation))), (((deformed))), (((tiling))), ((naked)), ((tile)), ((fleshpile)), ((ugly)), (((abstract))), blurry, ((bad anatomy)), ((bad proportions)), ((extra limbs)), cloned face, (((skinny))), glitchy, ((extra breasts)), ((double torso)), ((extra arms)), ((extra hands)), ((mangled fingers)), ((missing breasts)), (missing lips), ((ugly face)), ((fat)), ((extra legs))\",\n",
    "        \"width\": \"512\",\n",
    "        \"height\": \"512\",\n",
    "        \"samples\": \"1\",\n",
    "        \"num_inference_steps\": \"20\",\n",
    "        \"seed\": 'none',\n",
    "        \"guidance_scale\": '7.5',\n",
    "        \"webhook\": 'none',\n",
    "        \"track_id\": 'none'}\n",
    "    x = requests.post(url, json = myobj)\n",
    "    image_url = x.text.split('''\"output\":[\"''')[1].split('''\"]''')[0].split(\"/\")[-1]\n",
    "    return(image_url)\n",
    "\n",
    "#combined_df[\"image_urls\"] = combined_df[\"room_descriptions\"].apply(get_image_url)\n",
    "\n",
    "def save_image(image_url):\n",
    "    img_data = requests.get(\"https://pub-8b49af329fae499aa563997f5d4068a4.r2.dev/generations/\"+image_url).content\n",
    "    with open(\"images/\"+image_url, 'wb') as handler:\n",
    "        handler.write(img_data)\n",
    "        \n",
    "#combined_df[\"image_urls\"].apply(save_image)"
   ]
  },
  {
   "cell_type": "code",
   "execution_count": 34,
   "metadata": {},
   "outputs": [],
   "source": [
    "x = painting(\"Dingy rooms with horrible lighting and a view of the parking lot\")\n",
    "save_image(x)"
   ]
  },
  {
   "cell_type": "code",
   "execution_count": 16,
   "metadata": {},
   "outputs": [
    {
     "data": {
      "text/plain": [
       "'0c11fbbe-0a1c-4dc3-9e13-1d7642a7153a-0.png'"
      ]
     },
     "execution_count": 16,
     "metadata": {},
     "output_type": "execute_result"
    }
   ],
   "source": []
  }
 ],
 "metadata": {
  "kernelspec": {
   "display_name": "Causality",
   "language": "python",
   "name": "python3"
  },
  "language_info": {
   "codemirror_mode": {
    "name": "ipython",
    "version": 3
   },
   "file_extension": ".py",
   "mimetype": "text/x-python",
   "name": "python",
   "nbconvert_exporter": "python",
   "pygments_lexer": "ipython3",
   "version": "3.9.14"
  },
  "orig_nbformat": 4
 },
 "nbformat": 4,
 "nbformat_minor": 2
}
