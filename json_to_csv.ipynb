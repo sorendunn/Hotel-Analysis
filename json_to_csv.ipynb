{
 "cells": [
  {
   "cell_type": "code",
   "execution_count": 1,
   "metadata": {},
   "outputs": [],
   "source": [
    "import pandas as pd"
   ]
  },
  {
   "cell_type": "code",
   "execution_count": 26,
   "metadata": {},
   "outputs": [],
   "source": [
    "data = pd.read_json('restrauntData.json')"
   ]
  },
  {
   "cell_type": "code",
   "execution_count": 29,
   "metadata": {},
   "outputs": [
    {
     "data": {
      "text/plain": [
       "Index(['title', 'subTitle', 'description', 'price', 'menu', 'categoryName',\n",
       "       'address', 'locatedIn', 'neighborhood', 'street',\n",
       "       ...\n",
       "       'reviews_466.reviewImageUrls.5', 'reviews_279.reviewImageUrls.5',\n",
       "       'reviews_424.reviewImageUrls.2', 'reviews_424.reviewImageUrls.3',\n",
       "       'reviews_450.reviewImageUrls.1', 'reviews_451.reviewImageUrls.2',\n",
       "       'reviews_451.reviewImageUrls.3', 'reviews_451.reviewImageUrls.4',\n",
       "       'reviews_451.reviewImageUrls.5', 'reviews_451.reviewImageUrls.6'],\n",
       "      dtype='object', length=11049)"
      ]
     },
     "execution_count": 29,
     "metadata": {},
     "output_type": "execute_result"
    }
   ],
   "source": [
    "import pandas as pd\n",
    "\n",
    "# # Sample data\n",
    "# data = {\n",
    "#     'info': [\n",
    "#         {'a': 1, 'b': 2, 'c': {'d': 3, 'e': 4}, 'f': [5, 6]},\n",
    "#         {'a': 3, 'b': 4, 'c': {'d': 5, 'e': 6}, 'f': [7, 8]},\n",
    "#         {'a': 5, 'b': 6, 'c': {'d': 7, 'e': 8}, 'f': [9, 10]}\n",
    "#     ]\n",
    "# }\n",
    "\n",
    "# df = pd.DataFrame(data)\n",
    "\n",
    "def normalize_data(data, prefix=''):\n",
    "    if isinstance(data, dict):\n",
    "        return {f'{prefix}{key}': normalize_data(value) for key, value in data.items()}\n",
    "    elif isinstance(data, list):\n",
    "        return {f'{prefix}{i}': normalize_data(value) for i, value in enumerate(data)}\n",
    "    else:\n",
    "        return data\n",
    "\n",
    "def normalize_column(df, column_name):\n",
    "    normalized_data = []\n",
    "    for data in df[column_name]:\n",
    "        normalized_data.append(normalize_data(data))\n",
    "    return pd.json_normalize(normalized_data)\n",
    "\n",
    "def separate_nested_column(df, column_name):\n",
    "    normalized_df = normalize_column(df, column_name)\n",
    "    normalized_df.columns = [f'{column_name}_{col}' for col in normalized_df.columns]\n",
    "    return pd.concat([df.drop(column_name, axis=1), normalized_df], axis=1)\n",
    "\n",
    "# Separate the nested elements in the 'info' column\n",
    "df = separate_nested_column(data, 'reviews')"
   ]
  },
  {
   "cell_type": "code",
   "execution_count": 30,
   "metadata": {},
   "outputs": [
    {
     "data": {
      "text/plain": [
       "11049"
      ]
     },
     "execution_count": 30,
     "metadata": {},
     "output_type": "execute_result"
    }
   ],
   "source": [
    "len(df.columns)"
   ]
  }
 ],
 "metadata": {
  "kernelspec": {
   "display_name": "Causality",
   "language": "python",
   "name": "python3"
  },
  "language_info": {
   "codemirror_mode": {
    "name": "ipython",
    "version": 3
   },
   "file_extension": ".py",
   "mimetype": "text/x-python",
   "name": "python",
   "nbconvert_exporter": "python",
   "pygments_lexer": "ipython3",
   "version": "3.9.14"
  },
  "orig_nbformat": 4
 },
 "nbformat": 4,
 "nbformat_minor": 2
}
