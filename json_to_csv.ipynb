{
 "cells": [
  {
   "cell_type": "code",
   "execution_count": 2,
   "metadata": {},
   "outputs": [
    {
     "ename": "TypeError",
     "evalue": "list indices must be integers or slices, not str",
     "output_type": "error",
     "traceback": [
      "\u001b[1;31m---------------------------------------------------------------------------\u001b[0m",
      "\u001b[1;31mTypeError\u001b[0m                                 Traceback (most recent call last)",
      "\u001b[1;32mc:\\Users\\soren\\Documents\\GitHub\\Hotel-Analysis\\json_to_csv.ipynb Cell 1\u001b[0m in \u001b[0;36m1\n\u001b[0;32m     <a href='vscode-notebook-cell:/c%3A/Users/soren/Documents/GitHub/Hotel-Analysis/json_to_csv.ipynb#W0sZmlsZQ%3D%3D?line=10'>11</a>\u001b[0m \u001b[39mwith\u001b[39;00m \u001b[39mopen\u001b[39m(\u001b[39m'\u001b[39m\u001b[39mdataset_crawler-google-places_2023-03-25_20-42-24-690.json\u001b[39m\u001b[39m'\u001b[39m) \u001b[39mas\u001b[39;00m json_file:\n\u001b[0;32m     <a href='vscode-notebook-cell:/c%3A/Users/soren/Documents/GitHub/Hotel-Analysis/json_to_csv.ipynb#W0sZmlsZQ%3D%3D?line=11'>12</a>\u001b[0m     data \u001b[39m=\u001b[39m json\u001b[39m.\u001b[39mload(json_file)\n\u001b[1;32m---> <a href='vscode-notebook-cell:/c%3A/Users/soren/Documents/GitHub/Hotel-Analysis/json_to_csv.ipynb#W0sZmlsZQ%3D%3D?line=13'>14</a>\u001b[0m employee_data \u001b[39m=\u001b[39m data[\u001b[39m'\u001b[39;49m\u001b[39memp_details\u001b[39;49m\u001b[39m'\u001b[39;49m]\n\u001b[0;32m     <a href='vscode-notebook-cell:/c%3A/Users/soren/Documents/GitHub/Hotel-Analysis/json_to_csv.ipynb#W0sZmlsZQ%3D%3D?line=15'>16</a>\u001b[0m \u001b[39m# now we will open a file for writing\u001b[39;00m\n\u001b[0;32m     <a href='vscode-notebook-cell:/c%3A/Users/soren/Documents/GitHub/Hotel-Analysis/json_to_csv.ipynb#W0sZmlsZQ%3D%3D?line=16'>17</a>\u001b[0m data_file \u001b[39m=\u001b[39m \u001b[39mopen\u001b[39m(\u001b[39m'\u001b[39m\u001b[39mdata_file.csv\u001b[39m\u001b[39m'\u001b[39m, \u001b[39m'\u001b[39m\u001b[39mw\u001b[39m\u001b[39m'\u001b[39m)\n",
      "\u001b[1;31mTypeError\u001b[0m: list indices must be integers or slices, not str"
     ]
    }
   ],
   "source": [
    "# Python program to convert\n",
    "# JSON file to CSV\n",
    " \n",
    " \n",
    "import json\n",
    "import csv\n",
    " \n",
    " \n",
    "# Opening JSON file and loading the data\n",
    "# into the variable data\n",
    "with open('dataset_crawler-google-places_2023-03-25_20-42-24-690.json') as json_file:\n",
    "    data = json.load(json_file)\n",
    " \n",
    "employee_data = data['emp_details']\n",
    " \n",
    "# now we will open a file for writing\n",
    "data_file = open('data_file.csv', 'w')\n",
    " \n",
    "# create the csv writer object\n",
    "csv_writer = csv.writer(data_file)\n",
    " \n",
    "# Counter variable used for writing\n",
    "# headers to the CSV file\n",
    "count = 0\n",
    " \n",
    "for emp in employee_data:\n",
    "    if count == 0:\n",
    " \n",
    "        # Writing headers of CSV file\n",
    "        header = emp.keys()\n",
    "        csv_writer.writerow(header)\n",
    "        count += 1\n",
    " \n",
    "    # Writing data of CSV file\n",
    "    csv_writer.writerow(emp.values())\n",
    " \n",
    "data_file.close()"
   ]
  }
 ],
 "metadata": {
  "kernelspec": {
   "display_name": "Causality",
   "language": "python",
   "name": "python3"
  },
  "language_info": {
   "codemirror_mode": {
    "name": "ipython",
    "version": 3
   },
   "file_extension": ".py",
   "mimetype": "text/x-python",
   "name": "python",
   "nbconvert_exporter": "python",
   "pygments_lexer": "ipython3",
   "version": "3.9.14"
  },
  "orig_nbformat": 4
 },
 "nbformat": 4,
 "nbformat_minor": 2
}
